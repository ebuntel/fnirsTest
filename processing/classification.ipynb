{
 "cells": [
  {
   "cell_type": "code",
   "execution_count": 1,
   "metadata": {},
   "outputs": [
    {
     "name": "stdout",
     "output_type": "stream",
     "text": [
      "os              : Windows-10-10.0.22621-SP0\n",
      "python          : 3.11.7\n",
      "tsai            : 0.3.8\n",
      "fastai          : 2.7.13\n",
      "fastcore        : 1.5.29\n",
      "torch           : 2.1.1+cpu\n",
      "device          : cpu\n",
      "cpu cores       : 10\n",
      "threads per cpu : 1\n",
      "RAM             : 15.73 GB\n",
      "GPU memory      : N/A\n"
     ]
    }
   ],
   "source": [
    "import os \n",
    "\n",
    "import numpy as np\n",
    "import matplotlib.pyplot as plt\n",
    "\n",
    "from tsai.all import *\n",
    "my_setup()"
   ]
  },
  {
   "cell_type": "code",
   "execution_count": 24,
   "metadata": {},
   "outputs": [
    {
     "name": "stdout",
     "output_type": "stream",
     "text": [
      "Folder name:  2023-12-14_004\n",
      "Data shape:  (40, 100, 68)\n",
      "Label shape:  (40,)\n",
      "Folder name:  2023-12-14_005\n",
      "Data shape:  (40, 100, 68)\n",
      "Label shape:  (40,)\n",
      "Folder name:  2023-12-14_006\n",
      "Data shape:  (40, 100, 68)\n",
      "Label shape:  (40,)\n",
      "Folder name:  2023-12-14_008\n",
      "Data shape:  (40, 100, 68)\n",
      "Label shape:  (40,)\n",
      "Folder name:  2023-12-17_004\n",
      "Data shape:  (40, 100, 68)\n",
      "Label shape:  (40,)\n",
      "Folder name:  2023-12-17_006\n",
      "Data shape:  (40, 100, 68)\n",
      "Label shape:  (40,)\n"
     ]
    }
   ],
   "source": [
    "# Load data from each folder in /data/toPreProc/\n",
    "\n",
    "data_dict = {}\n",
    "label_dict = {}\n",
    "\n",
    "for folder in os.listdir('data/toPreProc/'):\n",
    "    print(\"Folder name: \", folder)\n",
    "    data_dict[folder] = np.load(f'data/toPreProc/{folder}/{folder}PreprocessedData.npy')\n",
    "    labels = np.load(f'data/toPreProc/{folder}/{folder}Labels.npy', allow_pickle=True)\n",
    "    label_dict[folder] = labels[:-1, 2]\n",
    "    print(\"Data shape: \", data_dict[folder].shape)\n",
    "    print(\"Label shape: \", label_dict[folder].shape)"
   ]
  },
  {
   "cell_type": "code",
   "execution_count": 23,
   "metadata": {},
   "outputs": [
    {
     "name": "stdout",
     "output_type": "stream",
     "text": [
      "['8.0' '6.0' '3.0' '4.0' '2.0' '1.0' '7.0' '5.0' '5.0' '4.0' '7.0' '6.0'\n",
      " '2.0' '8.0' '1.0' '3.0' '5.0' '6.0' '4.0' '2.0' '3.0' '8.0' '7.0' '1.0'\n",
      " '6.0' '5.0' '2.0' '4.0' '1.0' '3.0' '7.0' '8.0' '6.0' '5.0' '1.0' '4.0'\n",
      " '7.0' '2.0' '8.0' '3.0']\n",
      "None\n"
     ]
    }
   ],
   "source": [
    "print(print(label_dict['2023-12-14_004']))\n",
    "\n"
   ]
  }
 ],
 "metadata": {
  "kernelspec": {
   "display_name": "Python 3",
   "language": "python",
   "name": "python3"
  },
  "language_info": {
   "codemirror_mode": {
    "name": "ipython",
    "version": 3
   },
   "file_extension": ".py",
   "mimetype": "text/x-python",
   "name": "python",
   "nbconvert_exporter": "python",
   "pygments_lexer": "ipython3",
   "version": "3.11.7"
  }
 },
 "nbformat": 4,
 "nbformat_minor": 2
}
