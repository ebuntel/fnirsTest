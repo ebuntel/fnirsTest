{
 "cells": [
  {
   "cell_type": "code",
   "execution_count": 1,
   "metadata": {},
   "outputs": [
    {
     "name": "stdout",
     "output_type": "stream",
     "text": [
      "Folder name:  2023-12-18_003\n",
      "Data shape:  (26, 100, 68)\n",
      "Label shape:  (26,)\n",
      "Folder name:  2023-12-15_002\n",
      "Data shape:  (26, 100, 68)\n",
      "Label shape:  (26,)\n",
      "Folder name:  2023-12-17_002\n",
      "Data shape:  (26, 100, 68)\n",
      "Label shape:  (26,)\n",
      "Folder name:  2023-12-17_001\n",
      "Data shape:  (26, 100, 68)\n",
      "Label shape:  (26,)\n",
      "Folder name:  2023-12-18_002\n",
      "Data shape:  (26, 100, 68)\n",
      "Label shape:  (26,)\n",
      "Folder name:  2023-12-18_001\n",
      "Data shape:  (26, 100, 68)\n",
      "Label shape:  (26,)\n"
     ]
    }
   ],
   "source": [
    "import os\n",
    "\n",
    "import numpy as np\n",
    "\n",
    "from sklearn.preprocessing import OneHotEncoder\n",
    "\n",
    "# Load data from each folder in /data/toPreProc/\n",
    "\n",
    "data_in = 0 # Number of input dimensions to the model\n",
    "data_out = 0 # Number of output dimensions to the model\n",
    "\n",
    "data_dict = {}\n",
    "label_dict = {}\n",
    "\n",
    "for folder in os.listdir('data/toPreProc/'):\n",
    "    print(\"Folder name: \", folder)\n",
    "    data_dict[folder] = np.load(f'data/toPreProc/{folder}/{folder}PreprocessedData.npy')\n",
    "    labels = np.load(f'data/toPreProc/{folder}/{folder}Labels.npy', allow_pickle=True)\n",
    "    label_dict[folder] = labels[:-1, 2]\n",
    "    print(\"Data shape: \", data_dict[folder].shape)\n",
    "    print(\"Label shape: \", label_dict[folder].shape)\n",
    "    if(data_dict[folder].shape[1] > data_in):\n",
    "        data_in = data_dict[folder].shape[1]\n",
    "\n",
    "# # One hot encode the labels\n",
    "# ohes = {}\n",
    "# num_of_labels = len(label_dict) # Includes one extra for the end of the sequence\n",
    "# for key, y in label_dict.items():\n",
    "#     #\n",
    "\n",
    "#     #\n",
    "#     print(y.reshape(-1, 1))\n",
    "#     ohes[key] = OneHotEncoder(handle_unknown='ignore', sparse_output=False).fit(y)\n",
    "#     label_dict[key] = ohes[key].transform(y)\n",
    "#     print(label_dict[key])"
   ]
  },
  {
   "cell_type": "code",
   "execution_count": 8,
   "metadata": {},
   "outputs": [],
   "source": [
    "import torch\n",
    "import random\n",
    "\n",
    "import torch.nn as nn\n",
    "\n",
    "# Define the sequential model\n",
    "model = nn.Sequential(\n",
    "    nn.Conv1d(kernel_size=5, padding_mode=\"replicate\", in_channels=data_in, out_channels=64),\n",
    "\n",
    "    nn.Conv1d(kernel_size=3, padding_mode=\"replicate\", in_channels=64, out_channels=64)\n",
    "\n",
    ")"
   ]
  }
 ],
 "metadata": {
  "kernelspec": {
   "display_name": "Python 3",
   "language": "python",
   "name": "python3"
  },
  "language_info": {
   "codemirror_mode": {
    "name": "ipython",
    "version": 3
   },
   "file_extension": ".py",
   "mimetype": "text/x-python",
   "name": "python",
   "nbconvert_exporter": "python",
   "pygments_lexer": "ipython3",
   "version": "3.10.12"
  }
 },
 "nbformat": 4,
 "nbformat_minor": 2
}
