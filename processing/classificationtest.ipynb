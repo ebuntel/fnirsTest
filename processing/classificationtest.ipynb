{
 "cells": [
  {
   "cell_type": "code",
   "execution_count": 1,
   "metadata": {},
   "outputs": [],
   "source": [
    "import numpy as np \n",
    "import matplotlib.pyplot as plt\n"
   ]
  },
  {
   "cell_type": "code",
   "execution_count": 2,
   "metadata": {},
   "outputs": [
    {
     "name": "stdout",
     "output_type": "stream",
     "text": [
      "(40, 84, 71)\n"
     ]
    }
   ],
   "source": [
    "with open('output.npy', 'rb') as f:\n",
    "    raw_np_data = np.load(f)\n",
    "\n",
    "print(raw_np_data.shape)"
   ]
  },
  {
   "cell_type": "code",
   "execution_count": 3,
   "metadata": {},
   "outputs": [
    {
     "name": "stdout",
     "output_type": "stream",
     "text": [
      "os              : Windows-10-10.0.22621-SP0\n",
      "python          : 3.11.7\n",
      "tsai            : 0.3.8\n",
      "fastai          : 2.7.13\n",
      "fastcore        : 1.5.29\n",
      "torch           : 2.1.1+cpu\n",
      "device          : cpu\n",
      "cpu cores       : 10\n",
      "threads per cpu : 1\n",
      "RAM             : 15.73 GB\n",
      "GPU memory      : N/A\n"
     ]
    }
   ],
   "source": [
    "from tsai.all import *\n",
    "my_setup()"
   ]
  },
  {
   "cell_type": "code",
   "execution_count": 10,
   "metadata": {},
   "outputs": [],
   "source": [
    "dataset_name = \"FirstWordExpDataset\"\n",
    "\n",
    "# Labels retrieved from image in preprocessing file. Find a better way to do this.\n",
    "y = [3, 5, 6, 8, 1, 4, 7, 2, 3, 5, 6, 8, 1, 4, 7, 2, 3, 5, 6, 8, 1, 4, 7, 2, 3, 5, 6, 8, 1, 4, 7, 2, 3, 5, 6, 8, 1, 4, 7, 2]\n",
    "X = raw_np_data.copy()"
   ]
  },
  {
   "cell_type": "code",
   "execution_count": 11,
   "metadata": {},
   "outputs": [
    {
     "data": {
      "image/png": "[encoded data removed]",
      "text/plain": [
       "<Figure size 1600x50 with 1 Axes>"
      ]
     },
     "metadata": {},
     "output_type": "display_data"
    }
   ],
   "source": [
    "train_test_splits = get_walk_forward_splits(X, n_splits=1, anchored=True, test_size=0.175, valid_size=0.2, show_plot=True, test_after_valid=True)"
   ]
  },
  {
   "cell_type": "code",
   "execution_count": 17,
   "metadata": {},
   "outputs": [
    {
     "name": "stdout",
     "output_type": "stream",
     "text": [
      "40\n",
      "[0, 1, 2, 3, 4, 5, 6, 7, 8, 9, 10, 11, 12, 13, 14, 15, 16, 17, 18, 19, 20, 21, 22, 23, 24] [25, 26, 27, 28, 29, 30, 31, 32] [33, 34, 35, 36, 37, 38, 39]\n",
      "[3, 5, 6, 8, 1, 4, 7, 2, 3, 5, 6, 8, 1, 4, 7, 2, 3, 5, 6, 8, 1, 4, 7, 2] [3, 5, 6, 8, 1, 4, 7, 2] [3, 5, 6, 8, 1, 4, 7, 2]\n",
      "24 8 8\n"
     ]
    }
   ],
   "source": [
    "print(len(y))\n",
    "\n",
    "X_train, X_valid, X_test= train_test_splits[0]\n",
    "print(X_train, X_valid, X_test)\n",
    "\n",
    "y_train, y_valid, y_test = y[:len(X_train) - 1], y[len(X_train) - 1:len(X_train)+len(X_valid) - 1], y[len(X_train)+len(X_valid) - 1:]\n",
    "print(y_train, y_valid, y_test)\n",
    "print(len(y_train), len(y_valid), len(y_test))"
   ]
  },
  {
   "cell_type": "code",
   "execution_count": 28,
   "metadata": {},
   "outputs": [
    {
     "name": "stdout",
     "output_type": "stream",
     "text": [
      "8\n"
     ]
    }
   ],
   "source": [
    "train_set = TSDataset(np.array(X_train), np.array(y_train).astype(int) - 1, types=(TSTensor, TSLabelTensor))\n",
    "train_dl = TSDataLoader(train_set, batch_size=4, num_workers=0)\n",
    "valid_set = TSDataset(np.array(X_valid), np.array(y_valid).astype(int) - 1, types=(TSTensor, TSLabelTensor))\n",
    "valid_dl = TSDataLoader(valid_set, batch_size=4, num_workers=0)\n",
    "test_set = TSDataset(np.array(X_test), np.array(y_test).astype(int) - 1, types=(TSTensor, TSLabelTensor))\n",
    "test_dl = TSDataLoader(test_set, batch_size=4, num_workers=0)\n",
    "\n",
    "dls = TSDataLoaders(train_dl, valid_dl, test_dl, device=default_device())\n",
    "\n",
    "c = len(np.unique(y_train))\n",
    "print(c)\n",
    "\n",
    "#TSClassifier(X=X, y=y, splits=train_test_splits, arch='InceptionTimePlus', metrics=accuracy)\n",
    "\n",
    "#dsets = TSDataset(X, y)\n",
    "#dls   = TSDataLoaders.from_dsets(dsets.train, dsets.valid, bs=[64, 128], num_workers=0)"
   ]
  },
  {
   "cell_type": "code",
   "execution_count": 34,
   "metadata": {},
   "outputs": [
    {
     "ename": "IndexError",
     "evalue": "tuple index out of range",
     "output_type": "error",
     "traceback": [
      "\u001b[1;31m---------------------------------------------------------------------------\u001b[0m",
      "\u001b[1;31mIndexError\u001b[0m                                Traceback (most recent call last)",
      "Cell \u001b[1;32mIn[34], line 1\u001b[0m\n\u001b[1;32m----> 1\u001b[0m model \u001b[38;5;241m=\u001b[39m InceptionTimePlus(c_in\u001b[38;5;241m=\u001b[39m\u001b[38;5;241m8\u001b[39m, c_out\u001b[38;5;241m=\u001b[39m\u001b[38;5;241m8\u001b[39m, \u001b[38;5;28mvars\u001b[39m\u001b[38;5;241m=\u001b[39m\u001b[43mdls\u001b[49m\u001b[38;5;241;43m.\u001b[39;49m\u001b[43mvars\u001b[49m, \u001b[38;5;28mlen\u001b[39m\u001b[38;5;241m=\u001b[39mdls\u001b[38;5;241m.\u001b[39mlen, features\u001b[38;5;241m=\u001b[39mdls\u001b[38;5;241m.\u001b[39mfeatures, device\u001b[38;5;241m=\u001b[39mdls\u001b[38;5;241m.\u001b[39mdevice)\n",
      "File \u001b[1;32m~\\AppData\\Local\\Packages\\PythonSoftwareFoundation.Python.3.11_qbz5n2kfra8p0\\LocalCache\\local-packages\\Python311\\site-packages\\fastcore\\basics.py:496\u001b[0m, in \u001b[0;36mGetAttr.__getattr__\u001b[1;34m(self, k)\u001b[0m\n\u001b[0;32m    494\u001b[0m \u001b[38;5;28;01mif\u001b[39;00m \u001b[38;5;28mself\u001b[39m\u001b[38;5;241m.\u001b[39m_component_attr_filter(k):\n\u001b[0;32m    495\u001b[0m     attr \u001b[38;5;241m=\u001b[39m \u001b[38;5;28mgetattr\u001b[39m(\u001b[38;5;28mself\u001b[39m,\u001b[38;5;28mself\u001b[39m\u001b[38;5;241m.\u001b[39m_default,\u001b[38;5;28;01mNone\u001b[39;00m)\n\u001b[1;32m--> 496\u001b[0m     \u001b[38;5;28;01mif\u001b[39;00m attr \u001b[38;5;129;01mis\u001b[39;00m \u001b[38;5;129;01mnot\u001b[39;00m \u001b[38;5;28;01mNone\u001b[39;00m: \u001b[38;5;28;01mreturn\u001b[39;00m \u001b[38;5;28mgetattr\u001b[39m(attr,k)\n\u001b[0;32m    497\u001b[0m \u001b[38;5;28;01mraise\u001b[39;00m \u001b[38;5;167;01mAttributeError\u001b[39;00m(k)\n",
      "File \u001b[1;32m~\\AppData\\Local\\Packages\\PythonSoftwareFoundation.Python.3.11_qbz5n2kfra8p0\\LocalCache\\local-packages\\Python311\\site-packages\\tsai\\data\\core.py:842\u001b[0m, in \u001b[0;36mTSDataLoader.vars\u001b[1;34m(self)\u001b[0m\n\u001b[0;32m    840\u001b[0m i \u001b[38;5;241m=\u001b[39m \u001b[38;5;28mgetattr\u001b[39m(\u001b[38;5;28mself\u001b[39m, \u001b[38;5;124m'\u001b[39m\u001b[38;5;124mn_inp\u001b[39m\u001b[38;5;124m'\u001b[39m, \u001b[38;5;241m1\u001b[39m \u001b[38;5;28;01mif\u001b[39;00m \u001b[38;5;28mlen\u001b[39m(b)\u001b[38;5;241m==\u001b[39m\u001b[38;5;241m1\u001b[39m \u001b[38;5;28;01melse\u001b[39;00m \u001b[38;5;28mlen\u001b[39m(b)\u001b[38;5;241m-\u001b[39m\u001b[38;5;241m1\u001b[39m)\n\u001b[0;32m    841\u001b[0m xb \u001b[38;5;241m=\u001b[39m b[:i]\n\u001b[1;32m--> 842\u001b[0m \u001b[38;5;28;01mif\u001b[39;00m \u001b[38;5;28;43mhasattr\u001b[39;49m\u001b[43m(\u001b[49m\u001b[43mxb\u001b[49m\u001b[43m[\u001b[49m\u001b[38;5;241;43m0\u001b[39;49m\u001b[43m]\u001b[49m\u001b[43m,\u001b[49m\u001b[43m \u001b[49m\u001b[38;5;124;43m'\u001b[39;49m\u001b[38;5;124;43mvars\u001b[39;49m\u001b[38;5;124;43m'\u001b[39;49m\u001b[43m)\u001b[49m: \u001b[38;5;28;01mreturn\u001b[39;00m xb[\u001b[38;5;241m0\u001b[39m]\u001b[38;5;241m.\u001b[39mvars\n\u001b[0;32m    843\u001b[0m \u001b[38;5;28;01mif\u001b[39;00m xb[\u001b[38;5;241m0\u001b[39m]\u001b[38;5;241m.\u001b[39mndim \u001b[38;5;241m>\u001b[39m\u001b[38;5;241m=\u001b[39m \u001b[38;5;241m4\u001b[39m: \u001b[38;5;28;01mreturn\u001b[39;00m xb[\u001b[38;5;241m0\u001b[39m]\u001b[38;5;241m.\u001b[39mshape[\u001b[38;5;241m-\u001b[39m\u001b[38;5;241m3\u001b[39m]\n\u001b[0;32m    844\u001b[0m \u001b[38;5;28;01melse\u001b[39;00m: \u001b[38;5;28;01mreturn\u001b[39;00m xb[\u001b[38;5;241m0\u001b[39m]\u001b[38;5;241m.\u001b[39mshape[\u001b[38;5;241m-\u001b[39m\u001b[38;5;241m2\u001b[39m]\n",
      "File \u001b[1;32m~\\AppData\\Local\\Packages\\PythonSoftwareFoundation.Python.3.11_qbz5n2kfra8p0\\LocalCache\\local-packages\\Python311\\site-packages\\tsai\\data\\core.py:100\u001b[0m, in \u001b[0;36mTSTensor.vars\u001b[1;34m(self)\u001b[0m\n\u001b[0;32m     98\u001b[0m \u001b[38;5;129m@property\u001b[39m\n\u001b[0;32m     99\u001b[0m \u001b[38;5;28;01mdef\u001b[39;00m \u001b[38;5;21mvars\u001b[39m(\u001b[38;5;28mself\u001b[39m):\n\u001b[1;32m--> 100\u001b[0m     \u001b[38;5;28;01mreturn\u001b[39;00m \u001b[38;5;28;43mself\u001b[39;49m\u001b[38;5;241;43m.\u001b[39;49m\u001b[43mshape\u001b[49m\u001b[43m[\u001b[49m\u001b[38;5;241;43m-\u001b[39;49m\u001b[38;5;241;43m2\u001b[39;49m\u001b[43m]\u001b[49m\n",
      "\u001b[1;31mIndexError\u001b[0m: tuple index out of range"
     ]
    }
   ],
   "source": [
    "model = InceptionTimePlus(c_in=8, c_out=8, vars=dls.vars, len=dls.len, features=dls.features, device=dls.device)"
   ]
  }
 ],
 "metadata": {
  "kernelspec": {
   "display_name": "Python 3",
   "language": "python",
   "name": "python3"
  },
  "language_info": {
   "codemirror_mode": {
    "name": "ipython",
    "version": 3
   },
   "file_extension": ".py",
   "mimetype": "text/x-python",
   "name": "python",
   "nbconvert_exporter": "python",
   "pygments_lexer": "ipython3",
   "version": "3.11.7"
  }
 },
 "nbformat": 4,
 "nbformat_minor": 2
}
